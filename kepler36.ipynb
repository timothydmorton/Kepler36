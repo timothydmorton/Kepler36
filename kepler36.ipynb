{
 "metadata": {
  "name": "",
  "signature": "sha256:7a34c7bf03a20f81074a3d462d4ac280d042eca4317814cf71152e7cb35b4845"
 },
 "nbformat": 3,
 "nbformat_minor": 0,
 "worksheets": [
  {
   "cells": [
    {
     "cell_type": "code",
     "collapsed": false,
     "input": [
      "%matplotlib inline\n",
      "\n",
      "import numpy as np\n",
      "import matplotlib.pyplot as plt\n",
      "import pickle\n",
      "\n",
      "from scipy.interpolate import LinearNDInterpolator as interpnd\n",
      "from scipy.interpolate import interp2d, griddata"
     ],
     "language": "python",
     "metadata": {},
     "outputs": [],
     "prompt_number": 80
    },
    {
     "cell_type": "code",
     "collapsed": false,
     "input": [
      "ls *.pkl"
     ],
     "language": "python",
     "metadata": {},
     "outputs": [
      {
       "output_type": "stream",
       "stream": "stdout",
       "text": [
        "FinalMp.pkl    FinalRp.pkl    InitialKH.pkl  InitialMP.pkl\r\n"
       ]
      }
     ],
     "prompt_number": 2
    },
    {
     "cell_type": "markdown",
     "metadata": {},
     "source": [
      "Each of these final arrays has four dimensions: Core mass, core radius, initial total mass, planet entropy."
     ]
    },
    {
     "cell_type": "code",
     "collapsed": false,
     "input": [
      "mass = pickle.load(open('FinalMp.pkl'))\n",
      "radius = pickle.load(open('FinalRp.pkl'))\n",
      "\n",
      "initial_entropy = pickle.load(open('InitialKH.pkl'))\n",
      "initial_mass = pickle.load(open('InitialMP.pkl'))\n",
      "core_mass_grid = np.linspace(6.5, 10, 16)\n",
      "core_radius_grid = np.linspace(1.4, 3.0, 24)"
     ],
     "language": "python",
     "metadata": {},
     "outputs": [],
     "prompt_number": 21
    },
    {
     "cell_type": "code",
     "collapsed": false,
     "input": [
      "print mass.shape"
     ],
     "language": "python",
     "metadata": {},
     "outputs": [
      {
       "output_type": "stream",
       "stream": "stdout",
       "text": [
        "(16, 24, 64, 64)\n"
       ]
      }
     ],
     "prompt_number": 31
    },
    {
     "cell_type": "code",
     "collapsed": false,
     "input": [
      "def mr_get(core_mass, core_radius, initial_mtot, initial_ent):\n",
      "    \n",
      "    if core_mass > core_mass_grid[-1] or \\\n",
      "        core_radius > core_radius_grid[-1] or \\\n",
      "        core_mass < core_mass_grid[0] or \\\n",
      "        core_radius < core_radius_grid[0]:\n",
      "            return np.nan, np.nan\n",
      "    \n",
      "    mass_bin = np.digitize(np.atleast_1d(core_mass), core_mass_grid)[0]\n",
      "    radius_bin = np.digitize(np.atleast_1d(core_radius), core_radius_grid)[0]\n",
      "    \n",
      "    mass_ilo = mass_bin - 1\n",
      "    mass_ihi = mass_bin\n",
      "    \n",
      "    radius_ilo = radius_bin - 1\n",
      "    radius_ihi = radius_bin\n",
      "\n",
      "    #fns = []\n",
      "    box_points = []\n",
      "    box_mass_values = []\n",
      "    box_radius_values = []\n",
      "    for mi in [mass_ilo, mass_ihi]:\n",
      "        for ri in [radius_ilo, radius_ihi]:            \n",
      "            mass_slice = mass[mi, ri, :, :]\n",
      "            radius_slice = radius[mi, ri, :, :]\n",
      "            ent_grid = initial_entropy[mi, ri, :, :]\n",
      "            minit_grid = initial_mass[mi, ri, :, :]\n",
      "            points = np.array([ent_grid.ravel(),minit_grid.ravel()]).T\n",
      "\n",
      "            mass_vals = mass_slice.ravel()\n",
      "            mass_fn = interpnd(points, mass_vals, rescale=True)\n",
      "            \n",
      "            radius_vals = radius_slice.ravel()\n",
      "            radius_fn = interpnd(points, radius_vals, rescale=True)\n",
      "\n",
      "            box_points.append([core_mass_grid[mi],\n",
      "                               core_radius_grid[ri]])\n",
      "            box_mass_values.append([mass_fn(initial_ent, initial_mtot)])\n",
      "            box_radius_values.append([radius_fn(initial_ent, initial_mtot)])\n",
      "    \n",
      "    box_points = np.array(box_points)\n",
      "    box_mass_values = np.array(box_mass_values)\n",
      "    box_radius_values = np.array(box_radius_values)\n",
      "    \n",
      "    return (griddata(box_points, box_mass_values, [core_mass, core_radius])[0][0],\n",
      "            griddata(box_points, box_radius_values, [core_mass, core_radius])[0][0])\n",
      "            \n"
     ],
     "language": "python",
     "metadata": {},
     "outputs": [],
     "prompt_number": 96
    },
    {
     "cell_type": "code",
     "collapsed": false,
     "input": [
      "np.digitize([11],core_mass_grid)"
     ],
     "language": "python",
     "metadata": {},
     "outputs": [
      {
       "metadata": {},
       "output_type": "pyout",
       "prompt_number": 95,
       "text": [
        "array([16])"
       ]
      }
     ],
     "prompt_number": 95
    },
    {
     "cell_type": "code",
     "collapsed": false,
     "input": [
      "%timeit mr_get(7.6,2,5e28,1e7)"
     ],
     "language": "python",
     "metadata": {},
     "outputs": [
      {
       "output_type": "stream",
       "stream": "stdout",
       "text": [
        "1 loops, best of 3: 258 ms per loop\n"
       ]
      }
     ],
     "prompt_number": 86
    },
    {
     "cell_type": "code",
     "collapsed": false,
     "input": [
      "kep36_mass = 8.08 * 5.97e27\n",
      "kep36_radius = 3.679 * 6.4e8\n",
      "kep36_mass_err = 0.1 * kep36_mass\n",
      "kep36_radius_err = 0.1 * kep36_radius\n",
      "\n",
      "def loglike(p):\n",
      "    mod_m, mod_r  = mr_get(*p)\n",
      "    \n",
      "    lnlike = (-0.5*((kep36_mass - mod_m)**2/kep36_mass_err) +\n",
      "            -0.5*((kep36_radius - mod_r)**2/kep36_radius_err))\n",
      "    \n",
      "    if np.isnan(lnlike):\n",
      "        lnlike = -np.inf\n",
      "\n",
      "    return -lnlike"
     ],
     "language": "python",
     "metadata": {},
     "outputs": [],
     "prompt_number": 100
    },
    {
     "cell_type": "code",
     "collapsed": false,
     "input": [
      "loglike((7.6,2,5e28,1e7))"
     ],
     "language": "python",
     "metadata": {},
     "outputs": [
      {
       "metadata": {},
       "output_type": "pyout",
       "prompt_number": 102,
       "text": [
        "9.9027085933582875e+25"
       ]
      }
     ],
     "prompt_number": 102
    },
    {
     "cell_type": "code",
     "collapsed": false,
     "input": [
      "from scipy.optimize import fmin\n",
      "\n",
      "fmin(loglike, (7.6,2,5e28,1e7))"
     ],
     "language": "python",
     "metadata": {},
     "outputs": []
    },
    {
     "cell_type": "code",
     "collapsed": false,
     "input": [
      "mr_get(  7.73010527e+00,   1.97766086e+00,   5.08741816e+28,\n",
      "         1.01441188e+07)"
     ],
     "language": "python",
     "metadata": {},
     "outputs": [
      {
       "metadata": {},
       "output_type": "pyout",
       "prompt_number": 103,
       "text": [
        "(4.8237599996941991e+28, 2119360443.6703186)"
       ]
      }
     ],
     "prompt_number": 103
    },
    {
     "cell_type": "code",
     "collapsed": false,
     "input": [
      "kep36_mass, kep36_radius"
     ],
     "language": "python",
     "metadata": {},
     "outputs": [
      {
       "metadata": {},
       "output_type": "pyout",
       "prompt_number": 104,
       "text": [
        "(4.8237600000000005e+28, 2354560000.0)"
       ]
      }
     ],
     "prompt_number": 104
    },
    {
     "cell_type": "code",
     "collapsed": false,
     "input": [],
     "language": "python",
     "metadata": {},
     "outputs": []
    }
   ],
   "metadata": {}
  }
 ]
}