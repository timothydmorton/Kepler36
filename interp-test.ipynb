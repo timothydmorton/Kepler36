{
 "cells": [
  {
   "cell_type": "markdown",
   "metadata": {},
   "source": [
    "first: `python setup.py build_ext --inplace` to compile `interp` module."
   ]
  },
  {
   "cell_type": "code",
   "execution_count": 1,
   "metadata": {
    "collapsed": false
   },
   "outputs": [],
   "source": [
    "import numpy as np\n",
    "from interp import interpolate_box, interp_4d"
   ]
  },
  {
   "cell_type": "code",
   "execution_count": 2,
   "metadata": {
    "collapsed": true
   },
   "outputs": [],
   "source": [
    "import mr_get_new as m"
   ]
  },
  {
   "cell_type": "code",
   "execution_count": 70,
   "metadata": {
    "collapsed": false
   },
   "outputs": [],
   "source": [
    "a1 = np.arange(4.)*1\n",
    "a2 = np.arange(5.)*2\n",
    "a3 = np.arange(6.)*3\n",
    "a4 = np.arange(7.)*4\n",
    "\n",
    "v = np.zeros((len(a1),len(a2),len(a3),len(a4)))\n",
    "\n",
    "pts = []\n",
    "vals = []\n",
    "\n",
    "for i in range(len(a1)):\n",
    "    for j in range(len(a2)):\n",
    "        for k in range(len(a3)):\n",
    "            for l in range(len(a4)):\n",
    "                val = a1[i]*a2[j]*a3[k]*a4[l]\n",
    "                v[i,j,k,l] = val\n",
    "                pts.append([a1[i], a2[j], a3[k], a4[l]])\n",
    "                vals.append(val)\n",
    "pts = np.array(pts)\n",
    "vals = np.array(vals)"
   ]
  },
  {
   "cell_type": "code",
   "execution_count": 71,
   "metadata": {
    "collapsed": false
   },
   "outputs": [],
   "source": [
    "from scipy.interpolate import LinearNDInterpolator \n",
    "\n",
    "fn = LinearNDInterpolator(pts, vals)"
   ]
  },
  {
   "cell_type": "code",
   "execution_count": 73,
   "metadata": {
    "collapsed": false
   },
   "outputs": [
    {
     "name": "stdout",
     "output_type": "stream",
     "text": [
      "[ 614.4]\n",
      "595.68\n",
      "595.68\n"
     ]
    }
   ],
   "source": [
    "pt = np.array([2,5.1,7.3,8.])\n",
    "print fn(pt)\n",
    "print interp_4d(pt, a1, a2, a3, a4, v)\n",
    "print pt[0]*pt[1]*pt[2]*pt[3]"
   ]
  },
  {
   "cell_type": "code",
   "execution_count": null,
   "metadata": {
    "collapsed": true
   },
   "outputs": [],
   "source": []
  }
 ],
 "metadata": {
  "kernelspec": {
   "display_name": "Python 2",
   "language": "python",
   "name": "python2"
  },
  "language_info": {
   "codemirror_mode": {
    "name": "ipython",
    "version": 2
   },
   "file_extension": ".py",
   "mimetype": "text/x-python",
   "name": "python",
   "nbconvert_exporter": "python",
   "pygments_lexer": "ipython2",
   "version": "2.7.10"
  }
 },
 "nbformat": 4,
 "nbformat_minor": 0
}
